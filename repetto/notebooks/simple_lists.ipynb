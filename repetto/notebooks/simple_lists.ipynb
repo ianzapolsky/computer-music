{
 "metadata": {
  "name": ""
 },
 "nbformat": 3,
 "nbformat_minor": 0,
 "worksheets": [
  {
   "cells": [
    {
     "cell_type": "markdown",
     "metadata": {},
     "source": [
      "One thing Python is very good for is manipulating lists. Lists of what?\n",
      "\n",
      "<code>\n",
      "notes\n",
      "durations\n",
      "events over time\n",
      "filenames\n",
      "samples\n",
      "data points\n",
      "articulations\n",
      "words\n",
      "images\n",
      "</code>\n",
      "\n",
      "Let's go through some list basics that are useful in the context of music making..."
     ]
    },
    {
     "cell_type": "code",
     "collapsed": false,
     "input": [
      "#make a list of pitch class names\n",
      "p_class_names = ['c', 'c#', 'd', 'd#', 'e', 'f', 'f#', 'g', 'g#', 'a', 'a#', 'b']"
     ],
     "language": "python",
     "metadata": {},
     "outputs": [],
     "prompt_number": 3
    },
    {
     "cell_type": "code",
     "collapsed": false,
     "input": [
      "print p_class_names"
     ],
     "language": "python",
     "metadata": {},
     "outputs": [
      {
       "output_type": "stream",
       "stream": "stdout",
       "text": [
        "['c', 'c#', 'd', 'd#', 'e', 'f', 'f#', 'g', 'g#', 'a', 'a#', 'b']\n"
       ]
      }
     ],
     "prompt_number": 5
    },
    {
     "cell_type": "code",
     "collapsed": false,
     "input": [
      "print p_class_names[0]"
     ],
     "language": "python",
     "metadata": {},
     "outputs": [
      {
       "output_type": "stream",
       "stream": "stdout",
       "text": [
        "c\n"
       ]
      }
     ],
     "prompt_number": 6
    },
    {
     "cell_type": "code",
     "collapsed": false,
     "input": [
      "print p_class_names[0], p_class_names[4], p_class_names[7]\n",
      "c_major = [p_class_names[0], p_class_names[4], p_class_names[7]]\n",
      "print c_major"
     ],
     "language": "python",
     "metadata": {},
     "outputs": [
      {
       "output_type": "stream",
       "stream": "stdout",
       "text": [
        "c e g\n",
        "['c', 'e', 'g']\n"
       ]
      }
     ],
     "prompt_number": 8
    },
    {
     "cell_type": "code",
     "collapsed": false,
     "input": [
      "print \"here's a C Major chord:\", c_major\n",
      "print \"here's a C Major chord: \" + c_major[0] + c_major[1] + c_major[2]\n",
      "print \"here's a C Major chord:\", c_major[0], c_major[1], c_major[2]"
     ],
     "language": "python",
     "metadata": {},
     "outputs": [
      {
       "output_type": "stream",
       "stream": "stdout",
       "text": [
        "here's a C Major chord: ['c', 'e', 'g']\n",
        "here's a C Major chord: ceg\n",
        "here's a C Major chord: c e g\n"
       ]
      }
     ],
     "prompt_number": 9
    },
    {
     "cell_type": "code",
     "collapsed": false,
     "input": [
      "print p_class_names[-1]"
     ],
     "language": "python",
     "metadata": {},
     "outputs": [
      {
       "output_type": "stream",
       "stream": "stdout",
       "text": [
        "b\n"
       ]
      }
     ],
     "prompt_number": 10
    },
    {
     "cell_type": "code",
     "collapsed": false,
     "input": [
      "print p_class_names[:]"
     ],
     "language": "python",
     "metadata": {},
     "outputs": [
      {
       "output_type": "stream",
       "stream": "stdout",
       "text": [
        "['c', 'c#', 'd', 'd#', 'e', 'f', 'f#', 'g', 'g#', 'a', 'a#', 'b']\n"
       ]
      }
     ],
     "prompt_number": 11
    },
    {
     "cell_type": "code",
     "collapsed": false,
     "input": [
      "print p_class_names[::-1]"
     ],
     "language": "python",
     "metadata": {},
     "outputs": [
      {
       "output_type": "stream",
       "stream": "stdout",
       "text": [
        "['b', 'a#', 'a', 'g#', 'g', 'f#', 'f', 'e', 'd#', 'd', 'c#', 'c']\n"
       ]
      }
     ],
     "prompt_number": 12
    },
    {
     "cell_type": "code",
     "collapsed": false,
     "input": [
      "print p_class_names[0:4:1]"
     ],
     "language": "python",
     "metadata": {},
     "outputs": [
      {
       "output_type": "stream",
       "stream": "stdout",
       "text": [
        "['c', 'c#', 'd', 'd#']\n"
       ]
      }
     ],
     "prompt_number": 13
    },
    {
     "cell_type": "code",
     "collapsed": false,
     "input": [
      "print p_class_names[4:0:-1]"
     ],
     "language": "python",
     "metadata": {},
     "outputs": [
      {
       "output_type": "stream",
       "stream": "stdout",
       "text": [
        "['e', 'd#', 'd', 'c#']\n"
       ]
      }
     ],
     "prompt_number": 15
    },
    {
     "cell_type": "code",
     "collapsed": false,
     "input": [
      "print p_class_names[4::-1]"
     ],
     "language": "python",
     "metadata": {},
     "outputs": [
      {
       "output_type": "stream",
       "stream": "stdout",
       "text": [
        "['e', 'd#', 'd', 'c#', 'c']\n"
       ]
      }
     ],
     "prompt_number": 16
    },
    {
     "cell_type": "code",
     "collapsed": false,
     "input": [
      "print p_class_names[:4]"
     ],
     "language": "python",
     "metadata": {},
     "outputs": [
      {
       "output_type": "stream",
       "stream": "stdout",
       "text": [
        "['c', 'c#', 'd', 'd#']\n"
       ]
      }
     ],
     "prompt_number": 17
    },
    {
     "cell_type": "code",
     "collapsed": false,
     "input": [
      "print p_class_names[4:]"
     ],
     "language": "python",
     "metadata": {},
     "outputs": [
      {
       "output_type": "stream",
       "stream": "stdout",
       "text": [
        "['e', 'f', 'f#', 'g', 'g#', 'a', 'a#', 'b']\n"
       ]
      }
     ],
     "prompt_number": 18
    },
    {
     "cell_type": "code",
     "collapsed": false,
     "input": [
      "print p_class_names[4]"
     ],
     "language": "python",
     "metadata": {},
     "outputs": [
      {
       "output_type": "stream",
       "stream": "stdout",
       "text": [
        "e\n"
       ]
      }
     ],
     "prompt_number": 19
    },
    {
     "cell_type": "code",
     "collapsed": false,
     "input": [
      "print p_class_names[0:6:2]"
     ],
     "language": "python",
     "metadata": {},
     "outputs": [
      {
       "output_type": "stream",
       "stream": "stdout",
       "text": [
        "['c', 'd', 'e']\n"
       ]
      }
     ],
     "prompt_number": 20
    },
    {
     "cell_type": "code",
     "collapsed": false,
     "input": [
      "for name in p_class_names:\n",
      "    print name,"
     ],
     "language": "python",
     "metadata": {},
     "outputs": [
      {
       "output_type": "stream",
       "stream": "stdout",
       "text": [
        "c c# d d# e f f# g g# a a# b\n"
       ]
      }
     ],
     "prompt_number": 37
    },
    {
     "cell_type": "code",
     "collapsed": false,
     "input": [
      "for name in p_class_names[::-1]:\n",
      "    print name,\n",
      "    \n",
      "range(12)\n"
     ],
     "language": "python",
     "metadata": {},
     "outputs": [
      {
       "output_type": "stream",
       "stream": "stdout",
       "text": [
        "b a# a g# g f# f e d# d c# c"
       ]
      },
      {
       "metadata": {},
       "output_type": "pyout",
       "prompt_number": 30,
       "text": [
        "[0, 1, 2, 3, 4, 5, 6, 7, 8, 9, 10, 11]"
       ]
      },
      {
       "output_type": "stream",
       "stream": "stdout",
       "text": [
        "\n"
       ]
      }
     ],
     "prompt_number": 30
    },
    {
     "cell_type": "code",
     "collapsed": false,
     "input": [
      "# this is olde school. don't do this! Very often you don't care about the index number!\n",
      "\n",
      "for i in range(len(p_class_names)):\n",
      "    print \"pitch class\", i, \"is: \", p_class_names[i]"
     ],
     "language": "python",
     "metadata": {},
     "outputs": [
      {
       "output_type": "stream",
       "stream": "stdout",
       "text": [
        "pitch class 0 is:  c\n",
        "pitch class 1 is:  c#\n",
        "pitch class 2 is:  d\n",
        "pitch class 3 is:  d#\n",
        "pitch class 4 is:  e\n",
        "pitch class 5 is:  f\n",
        "pitch class 6 is:  f#\n",
        "pitch class 7 is:  g\n",
        "pitch class 8 is:  g#\n",
        "pitch class 9 is:  a\n",
        "pitch class 10 is:  a#\n",
        "pitch class 11 is:  b\n"
       ]
      }
     ],
     "prompt_number": 29
    },
    {
     "cell_type": "code",
     "collapsed": false,
     "input": [
      "# enumerate() gives us an index number as well as the item at that index\n",
      "# not that we're using it for anything interesting here...\n",
      "\n",
      "for i, value in enumerate(p_class_names):\n",
      "    print \"pitch class\", i, \"is: \", value\n",
      "    \n",
      "    if value == \"d\":\n",
      "        print \"douglas\""
     ],
     "language": "python",
     "metadata": {},
     "outputs": [
      {
       "output_type": "stream",
       "stream": "stdout",
       "text": [
        "pitch class 0 is:  c\n",
        "pitch class 1 is:  c#\n",
        "pitch class 2 is:  d\n",
        "douglas\n",
        "pitch class 3 is:  d#\n",
        "pitch class 4 is:  e\n",
        "pitch class 5 is:  f\n",
        "pitch class 6 is:  f#\n",
        "pitch class 7 is:  g\n",
        "pitch class 8 is:  g#\n",
        "pitch class 9 is:  a\n",
        "pitch class 10 is:  a#\n",
        "pitch class 11 is:  b\n"
       ]
      }
     ],
     "prompt_number": 36
    },
    {
     "cell_type": "code",
     "collapsed": false,
     "input": [
      "# okay, here we use the index number, although there are other ways to do this\n",
      "\n",
      "# let's print out triads\n",
      "\n",
      "for i, root in enumerate(p_class_names):\n",
      "    third = p_class_names[(i + 4) % 12]\n",
      "    fifth = p_class_names[(i + 7) % 12]\n",
      "    \n",
      "    print \"for i of:\", i, \" chord is:\", root, third, fifth, \" : \", \n",
      "    print \"(i + 4) % 12:\", (i + 4) % 12, \" i + 7:\", i + 7"
     ],
     "language": "python",
     "metadata": {},
     "outputs": [
      {
       "output_type": "stream",
       "stream": "stdout",
       "text": [
        "for i of: 0  chord is: c e g  :  (i + 4) % 12: 4  i + 7: 7\n",
        "for i of: 1  chord is: c# f g#  :  (i + 4) % 12: 5  i + 7: 8\n",
        "for i of: 2  chord is: d f# a  :  (i + 4) % 12: 6  i + 7: 9\n",
        "for i of: 3  chord is: d# g a#  :  (i + 4) % 12: 7  i + 7: 10\n",
        "for i of: 4  chord is: e g# b  :  (i + 4) % 12: 8  i + 7: 11\n",
        "for i of: 5  chord is: f a c  :  (i + 4) % 12: 9  i + 7: 12\n",
        "for i of: 6  chord is: f# a# c#  :  (i + 4) % 12: 10  i + 7: 13\n",
        "for i of: 7  chord is: g b d  :  (i + 4) % 12: 11  i + 7: 14\n",
        "for i of: 8  chord is: g# c d#  :  (i + 4) % 12: 0  i + 7: 15\n",
        "for i of: 9  chord is: a c# e  :  (i + 4) % 12: 1  i + 7: 16\n",
        "for i of: 10  chord is: a# d f  :  (i + 4) % 12: 2  i + 7: 17\n",
        "for i of: 11  chord is: b d# f#  :  (i + 4) % 12: 3  i + 7: 18\n"
       ]
      }
     ],
     "prompt_number": 45
    },
    {
     "cell_type": "code",
     "collapsed": false,
     "input": [
      "# a different way\n",
      "\n",
      "for i in range(len(p_class_names)):\n",
      "    root = p_class_names[i]\n",
      "    third = p_class_names[(i + 4) % 12]\n",
      "    fifth = p_class_names[(i + 7) % 12]\n",
      "    \n",
      "    print root, third, fifth, \" : \", "
     ],
     "language": "python",
     "metadata": {},
     "outputs": [
      {
       "output_type": "stream",
       "stream": "stdout",
       "text": [
        "c e g  :  c# f g#  :  d f# a  :  d# g a#  :  e g# b  :  f a c  :  f# a# c#  :  g b d  :  g# c d#  :  a c# e  :  a# d f  :  b d# f#  : \n"
       ]
      }
     ],
     "prompt_number": 46
    },
    {
     "cell_type": "code",
     "collapsed": false,
     "input": [
      "p_class_names.index(\"b\")\n"
     ],
     "language": "python",
     "metadata": {},
     "outputs": [
      {
       "metadata": {},
       "output_type": "pyout",
       "prompt_number": 263,
       "text": [
        "11"
       ]
      }
     ],
     "prompt_number": 263
    },
    {
     "cell_type": "code",
     "collapsed": false,
     "input": [
      "# yet another way\n",
      "\n",
      "for root in p_class_names:\n",
      "    # this tells us the index number of an item in a list\n",
      "    i = p_class_names.index(root)\n",
      "    third = p_class_names[(i + 4) % 12]\n",
      "    fifth = p_class_names[(i + 7) % 12]\n",
      "    \n",
      "    print root, third, fifth, \" : \", "
     ],
     "language": "python",
     "metadata": {},
     "outputs": [
      {
       "output_type": "stream",
       "stream": "stdout",
       "text": [
        "c e g  :  c# f g#  :  d f# a  :  d# g a#  :  e g# b  :  f a c  :  f# a# c#  :  g b d  :  g# c d#  :  a c# e  :  a# d f  :  b d# f#  : \n"
       ]
      }
     ],
     "prompt_number": 52
    },
    {
     "cell_type": "code",
     "collapsed": false,
     "input": [
      "# ET is boring. let's use quarter tones\n",
      "\n",
      "accidentals = [\"\", \"+\"]"
     ],
     "language": "python",
     "metadata": {},
     "outputs": [],
     "prompt_number": 62
    },
    {
     "cell_type": "code",
     "collapsed": false,
     "input": [
      "# let's generate all combos and store them in list since we don't wanna type them all\n",
      "\n",
      "quarter_tones = []\n",
      "\n",
      "for name in p_class_names:\n",
      "    for accidental in accidentals:\n",
      "        print name + accidental, \" : \",\n",
      "        quarter_tones.append(name + accidental)\n",
      "\n",
      "print\n",
      "print quarter_tones"
     ],
     "language": "python",
     "metadata": {},
     "outputs": [
      {
       "output_type": "stream",
       "stream": "stdout",
       "text": [
        "c  :  c+  :  c#  :  c#+  :  d  :  d+  :  d#  :  d#+  :  e  :  e+  :  f  :  f+  :  f#  :  f#+  :  g  :  g+  :  g#  :  g#+  :  a  :  a+  :  a#  :  a#+  :  b  :  b+  : \n",
        "['c', 'c+', 'c#', 'c#+', 'd', 'd+', 'd#', 'd#+', 'e', 'e+', 'f', 'f+', 'f#', 'f#+', 'g', 'g+', 'g#', 'g#+', 'a', 'a+', 'a#', 'a#+', 'b', 'b+']\n"
       ]
      }
     ],
     "prompt_number": 266
    },
    {
     "cell_type": "code",
     "collapsed": false,
     "input": [
      "# this is \"in place\", meaning it changes our list!\n",
      "quarter_tones.reverse()\n",
      "print quarter_tones"
     ],
     "language": "python",
     "metadata": {},
     "outputs": [
      {
       "output_type": "stream",
       "stream": "stdout",
       "text": [
        "['b+', 'b', 'a#+', 'a#', 'a+', 'a', 'g#+', 'g#', 'g+', 'g', 'f#+', 'f#', 'f+', 'f', 'e+', 'e', 'd#+', 'd#', 'd+', 'd', 'c#+', 'c#', 'c+', 'c']\n"
       ]
      }
     ],
     "prompt_number": 68
    },
    {
     "cell_type": "code",
     "collapsed": false,
     "input": [
      "# put it back\n",
      "quarter_tones.reverse()\n",
      "print quarter_tones"
     ],
     "language": "python",
     "metadata": {},
     "outputs": [
      {
       "output_type": "stream",
       "stream": "stdout",
       "text": [
        "['c', 'c+', 'c#', 'c#+', 'd', 'd+', 'd#', 'd#+', 'e', 'e+', 'f', 'f+', 'f#', 'f#+', 'g', 'g+', 'g#', 'g#+', 'a', 'a+', 'a#', 'a#+', 'b', 'b+']\n"
       ]
      }
     ],
     "prompt_number": 69
    },
    {
     "cell_type": "code",
     "collapsed": false,
     "input": [
      "# this makes a new list, doesn't touch our original!\n",
      "print quarter_tones[::-1]\n",
      "print quarter_tones"
     ],
     "language": "python",
     "metadata": {},
     "outputs": [
      {
       "output_type": "stream",
       "stream": "stdout",
       "text": [
        "['b+', 'b', 'a#+', 'a#', 'a+', 'a', 'g#+', 'g#', 'g+', 'g', 'f#+', 'f#', 'f+', 'f', 'e+', 'e', 'd#+', 'd#', 'd+', 'd', 'c#+', 'c#', 'c+', 'c']\n",
        "['c', 'c+', 'c#', 'c#+', 'd', 'd+', 'd#', 'd#+', 'e', 'e+', 'f', 'f+', 'f#', 'f#+', 'g', 'g+', 'g#', 'g#+', 'a', 'a+', 'a#', 'a#+', 'b', 'b+']\n"
       ]
      }
     ],
     "prompt_number": 386
    },
    {
     "cell_type": "code",
     "collapsed": false,
     "input": [
      "# we can make a copy if we want\n",
      "senot_retrauq = quarter_tones[::-1]\n",
      "print senot_retrauq\n",
      "senot_retrauq.reverse()\n",
      "print senot_retrauq"
     ],
     "language": "python",
     "metadata": {},
     "outputs": [
      {
       "output_type": "stream",
       "stream": "stdout",
       "text": [
        "['b+', 'b', 'a#+', 'a#', 'a+', 'a', 'g#+', 'g#', 'g+', 'g', 'f#+', 'f#', 'f+', 'f', 'e+', 'e', 'd#+', 'd#', 'd+', 'd', 'c#+', 'c#', 'c+', 'c']\n",
        "['c', 'c+', 'c#', 'c#+', 'd', 'd+', 'd#', 'd#+', 'e', 'e+', 'f', 'f+', 'f#', 'f#+', 'g', 'g+', 'g#', 'g#+', 'a', 'a+', 'a#', 'a#+', 'b', 'b+']\n"
       ]
      }
     ],
     "prompt_number": 75
    },
    {
     "cell_type": "code",
     "collapsed": false,
     "input": [
      "# let's jiggle them!\n",
      "import random\n",
      "\n",
      "random.shuffle(quarter_tones)\n",
      "print quarter_tones"
     ],
     "language": "python",
     "metadata": {},
     "outputs": [
      {
       "output_type": "stream",
       "stream": "stdout",
       "text": [
        "['g#', 'a#', 'a#+', 'e+', 'd#', 'f+', 'f#+', 'g#+', 'd+', 'e', 'g', 'a', 'a+', 'b', 'b+', 'd', 'f', 'c#+', 'f#', 'c', 'g+', 'd#+', 'c+', 'c#']\n"
       ]
      }
     ],
     "prompt_number": 81
    },
    {
     "cell_type": "code",
     "collapsed": false,
     "input": [
      "# uh oh, that was in place! so we've lost our order\n",
      "# let's make a function that will generate our quarter tones for us\n",
      "\n",
      "def make_quarter_tones():\n",
      "    tones = []\n",
      "\n",
      "    for name in p_class_names:\n",
      "        for accidental in accidentals:\n",
      "            tones.append(name + accidental)\n",
      "            \n",
      "    return tones"
     ],
     "language": "python",
     "metadata": {},
     "outputs": [],
     "prompt_number": 82
    },
    {
     "cell_type": "code",
     "collapsed": false,
     "input": [
      "# make them\n",
      "q_t = make_quarter_tones()\n",
      "print q_t"
     ],
     "language": "python",
     "metadata": {},
     "outputs": [
      {
       "output_type": "stream",
       "stream": "stdout",
       "text": [
        "['c', 'c+', 'c#', 'c#+', 'd', 'd+', 'd#', 'd#+', 'e', 'e+', 'f', 'f+', 'f#', 'f#+', 'g', 'g+', 'g#', 'g#+', 'a', 'a+', 'a#', 'a#+', 'b', 'b+']\n"
       ]
      }
     ],
     "prompt_number": 83
    },
    {
     "cell_type": "code",
     "collapsed": false,
     "input": [
      "# randomize\n",
      "random.shuffle(q_t)\n",
      "print q_t"
     ],
     "language": "python",
     "metadata": {},
     "outputs": [
      {
       "output_type": "stream",
       "stream": "stdout",
       "text": [
        "['a', 'a#+', 'd#+', 'f#+', 'c', 'g+', 'c#+', 'a+', 'b', 'e', 'f#', 'f', 'e+', 'b+', 'g#', 'c+', 'c#', 'g#+', 'd', 'd#', 'f+', 'd+', 'a#', 'g']\n"
       ]
      }
     ],
     "prompt_number": 84
    },
    {
     "cell_type": "code",
     "collapsed": false,
     "input": [
      "# get them back!\n",
      "q_t = make_quarter_tones()\n",
      "print q_t"
     ],
     "language": "python",
     "metadata": {},
     "outputs": [
      {
       "output_type": "stream",
       "stream": "stdout",
       "text": [
        "['c', 'c+', 'c#', 'c#+', 'd', 'd+', 'd#', 'd#+', 'e', 'e+', 'f', 'f+', 'f#', 'f#+', 'g', 'g+', 'g#', 'g#+', 'a', 'a+', 'a#', 'a#+', 'b', 'b+']\n"
       ]
      }
     ],
     "prompt_number": 85
    },
    {
     "cell_type": "code",
     "collapsed": false,
     "input": [
      "random.randint(0,10)"
     ],
     "language": "python",
     "metadata": {},
     "outputs": [
      {
       "metadata": {},
       "output_type": "pyout",
       "prompt_number": 121,
       "text": [
        "4"
       ]
      }
     ],
     "prompt_number": 121
    },
    {
     "cell_type": "code",
     "collapsed": false,
     "input": [
      "# let's pick some random notes\n",
      "\n",
      "rand_q_t = []\n",
      "\n",
      "for x in range(100):\n",
      "    note = q_t[random.randint(0,len(q_t) - 1)]\n",
      "    print note,\n",
      "    rand_q_t.append(note)\n",
      "    \n",
      "print rand_q_t\n",
      "print \"length:\", len(rand_q_t)"
     ],
     "language": "python",
     "metadata": {},
     "outputs": [
      {
       "output_type": "stream",
       "stream": "stdout",
       "text": [
        "a#+ c# c+ e d+ g+ a+ d# c+ b c#+ g#+ c#+ e c# d a# c#+ g# e c#+ g#+ f# g a+ d# b+ d# g# a b f# d+ c+ f#+ f#+ f+ c#+ d# f+ c+ g# g# a d# a#+ e+ d+ c+ g+ e g f d# c# c# b g+ d+ c d# d c a a+ d a d# d+ g# g#+ g b a# b+ a#+ g+ b+ c+ d#+ c a+ b+ d+ b a f# a c a# a# f e+ c# g# f#+ c+ a d b+ ['a#+', 'c#', 'c+', 'e', 'd+', 'g+', 'a+', 'd#', 'c+', 'b', 'c#+', 'g#+', 'c#+', 'e', 'c#', 'd', 'a#', 'c#+', 'g#', 'e', 'c#+', 'g#+', 'f#', 'g', 'a+', 'd#', 'b+', 'd#', 'g#', 'a', 'b', 'f#', 'd+', 'c+', 'f#+', 'f#+', 'f+', 'c#+', 'd#', 'f+', 'c+', 'g#', 'g#', 'a', 'd#', 'a#+', 'e+', 'd+', 'c+', 'g+', 'e', 'g', 'f', 'd#', 'c#', 'c#', 'b', 'g+', 'd+', 'c', 'd#', 'd', 'c', 'a', 'a+', 'd', 'a', 'd#', 'd+', 'g#', 'g#+', 'g', 'b', 'a#', 'b+', 'a#+', 'g+', 'b+', 'c+', 'd#+', 'c', 'a+', 'b+', 'd+', 'b', 'a', 'f#', 'a', 'c', 'a#', 'a#', 'f', 'e+', 'c#', 'g#', 'f#+', 'c+', 'a', 'd', 'b+']\n",
        "length: 100\n"
       ]
      }
     ],
     "prompt_number": 152
    },
    {
     "cell_type": "code",
     "collapsed": false,
     "input": [
      "# how many of each tone did we get?\n",
      "\n",
      "counts = []\n",
      "\n",
      "for tone in q_t:\n",
      "    # we're looking for tone in rand_q_t\n",
      "    count = rand_q_t.count(tone)\n",
      "    \n",
      "    counts.append(count)\n",
      "\n",
      "print counts\n",
      "\n",
      "# print them out uzing zip\n",
      "# zip takes multiple lists and outputs one item from each at a time\n",
      "\n",
      "for tone, count in zip(q_t, counts):\n",
      "    print tone + \": \\t\" + str(count)"
     ],
     "language": "python",
     "metadata": {},
     "outputs": [
      {
       "output_type": "stream",
       "stream": "stdout",
       "text": [
        "[4, 7, 5, 5, 4, 6, 8, 1, 4, 2, 2, 2, 3, 3, 3, 4, 6, 3, 7, 4, 4, 3, 5, 5]\n",
        "c: \t4\n",
        "c+: \t7\n",
        "c#: \t5\n",
        "c#+: \t5\n",
        "d: \t4\n",
        "d+: \t6\n",
        "d#: \t8\n",
        "d#+: \t1\n",
        "e: \t4\n",
        "e+: \t2\n",
        "f: \t2\n",
        "f+: \t2\n",
        "f#: \t3\n",
        "f#+: \t3\n",
        "g: \t3\n",
        "g+: \t4\n",
        "g#: \t6\n",
        "g#+: \t3\n",
        "a: \t7\n",
        "a+: \t4\n",
        "a#: \t4\n",
        "a#+: \t3\n",
        "b: \t5\n",
        "b+: \t5\n"
       ]
      }
     ],
     "prompt_number": 157
    },
    {
     "cell_type": "code",
     "collapsed": false,
     "input": [
      "# let's sort our random notes\n",
      "# this is \"in place\"\n",
      "rand_q_t.sort()\n",
      "\n",
      "print rand_q_t\n"
     ],
     "language": "python",
     "metadata": {},
     "outputs": [
      {
       "output_type": "stream",
       "stream": "stdout",
       "text": [
        "['a', 'a', 'a', 'a', 'a', 'a', 'a', 'a#', 'a#', 'a#', 'a#', 'a#+', 'a#+', 'a#+', 'a+', 'a+', 'a+', 'a+', 'b', 'b', 'b', 'b', 'b', 'b+', 'b+', 'b+', 'b+', 'b+', 'c', 'c', 'c', 'c', 'c#', 'c#', 'c#', 'c#', 'c#', 'c#+', 'c#+', 'c#+', 'c#+', 'c#+', 'c+', 'c+', 'c+', 'c+', 'c+', 'c+', 'c+', 'd', 'd', 'd', 'd', 'd#', 'd#', 'd#', 'd#', 'd#', 'd#', 'd#', 'd#', 'd#+', 'd+', 'd+', 'd+', 'd+', 'd+', 'd+', 'e', 'e', 'e', 'e', 'e+', 'e+', 'f', 'f', 'f#', 'f#', 'f#', 'f#+', 'f#+', 'f#+', 'f+', 'f+', 'g', 'g', 'g', 'g#', 'g#', 'g#', 'g#', 'g#', 'g#', 'g#+', 'g#+', 'g#+', 'g+', 'g+', 'g+', 'g+']\n"
       ]
      }
     ],
     "prompt_number": 158
    },
    {
     "cell_type": "code",
     "collapsed": false,
     "input": [],
     "language": "python",
     "metadata": {},
     "outputs": [],
     "prompt_number": 395
    },
    {
     "cell_type": "code",
     "collapsed": false,
     "input": [
      "# let's divide up our list into accidental types\n",
      "\n",
      "natural = []\n",
      "plus = []\n",
      "sharp = []\n",
      "sharp_plus = []\n",
      "\n",
      "for tone in rand_q_t:\n",
      "    if tone.endswith(\"#\"):\n",
      "        sharp.append(tone)\n",
      "    elif tone.endswith(\"#+\"):\n",
      "        sharp_plus.append(tone)\n",
      "    elif tone.endswith(\"+\"):\n",
      "        plus.append(tone)\n",
      "    else:\n",
      "        natural.append(tone)\n",
      "\n",
      "print natural\n",
      "print plus\n",
      "print sharp\n",
      "print sharp_plus"
     ],
     "language": "python",
     "metadata": {},
     "outputs": [
      {
       "output_type": "stream",
       "stream": "stdout",
       "text": [
        "['a', 'a', 'a', 'a', 'a', 'a', 'a', 'b', 'b', 'b', 'b', 'b', 'c', 'c', 'c', 'c', 'd', 'd', 'd', 'd', 'e', 'e', 'e', 'e', 'f', 'f', 'g', 'g', 'g']\n",
        "['a+', 'a+', 'a+', 'a+', 'b+', 'b+', 'b+', 'b+', 'b+', 'c+', 'c+', 'c+', 'c+', 'c+', 'c+', 'c+', 'd+', 'd+', 'd+', 'd+', 'd+', 'd+', 'e+', 'e+', 'f+', 'f+', 'g+', 'g+', 'g+', 'g+']\n",
        "['a#', 'a#', 'a#', 'a#', 'c#', 'c#', 'c#', 'c#', 'c#', 'd#', 'd#', 'd#', 'd#', 'd#', 'd#', 'd#', 'd#', 'f#', 'f#', 'f#', 'g#', 'g#', 'g#', 'g#', 'g#', 'g#']\n",
        "['a#+', 'a#+', 'a#+', 'c#+', 'c#+', 'c#+', 'c#+', 'c#+', 'd#+', 'f#+', 'f#+', 'f#+', 'g#+', 'g#+', 'g#+']\n"
       ]
      }
     ],
     "prompt_number": 159
    },
    {
     "cell_type": "code",
     "collapsed": false,
     "input": [
      "# wait, in music we start at C, right?\n",
      "# let's rotate our lists so that they start at c\n",
      "# we'll make a generic rotating function in case we want start at some other note\n",
      "\n",
      "def rotate_to_note(start_note, notes):\n",
      "    \n",
      "    start_note_index = -1\n",
      "    \n",
      "    for i, note in enumerate(notes):\n",
      "        if note.startswith(start_note):\n",
      "            start_note_index = i\n",
      "            break\n",
      "\n",
      "    # if start_note_index is still -1 then we didn't find start_note\n",
      "    if start_note_index == -1:\n",
      "        return notes\n",
      "    \n",
      "    # what's this?\n",
      "    # [start_note_index:] gives us notes from starting note to the end\n",
      "    # [:start_note_index] gives us notes from 0 to start_note_index - 1\n",
      "    # we add them together and get a rotated list!\n",
      "    new_notes = notes[start_note_index:] + notes[:start_note_index]\n",
      "    return new_notes"
     ],
     "language": "python",
     "metadata": {},
     "outputs": [],
     "prompt_number": 168
    },
    {
     "cell_type": "code",
     "collapsed": false,
     "input": [
      "print rotate_to_note(\"c\", natural)\n",
      "start_on_c = rotate_to_note(\"c\", natural)\n",
      "print start_on_c\n",
      "print rotate_to_note(\"f\", natural)"
     ],
     "language": "python",
     "metadata": {},
     "outputs": [
      {
       "output_type": "stream",
       "stream": "stdout",
       "text": [
        "['c', 'c', 'c', 'c', 'd', 'd', 'd', 'd', 'e', 'e', 'e', 'e', 'f', 'f', 'g', 'g', 'g', 'a', 'a', 'a', 'a', 'a', 'a', 'a', 'b', 'b', 'b', 'b', 'b']\n",
        "['c', 'c', 'c', 'c', 'd', 'd', 'd', 'd', 'e', 'e', 'e', 'e', 'f', 'f', 'g', 'g', 'g', 'a', 'a', 'a', 'a', 'a', 'a', 'a', 'b', 'b', 'b', 'b', 'b']\n",
        "['f', 'f', 'g', 'g', 'g', 'a', 'a', 'a', 'a', 'a', 'a', 'a', 'b', 'b', 'b', 'b', 'b', 'c', 'c', 'c', 'c', 'd', 'd', 'd', 'd', 'e', 'e', 'e', 'e']\n"
       ]
      }
     ],
     "prompt_number": 171
    },
    {
     "cell_type": "code",
     "collapsed": false,
     "input": [
      "# let's make a multi-dimensional list\n",
      "q_t_multi = [rotate_to_note(\"c\", natural), rotate_to_note(\"c\", plus), rotate_to_note(\"c\", sharp), rotate_to_note(\"c\", sharp_plus)]\n",
      "print q_t_multi"
     ],
     "language": "python",
     "metadata": {},
     "outputs": [
      {
       "output_type": "stream",
       "stream": "stdout",
       "text": [
        "[['c', 'c', 'c', 'c', 'd', 'd', 'd', 'd', 'e', 'e', 'e', 'e', 'f', 'f', 'g', 'g', 'g', 'a', 'a', 'a', 'a', 'a', 'a', 'a', 'b', 'b', 'b', 'b', 'b'], ['c+', 'c+', 'c+', 'c+', 'c+', 'c+', 'c+', 'd+', 'd+', 'd+', 'd+', 'd+', 'd+', 'e+', 'e+', 'f+', 'f+', 'g+', 'g+', 'g+', 'g+', 'a+', 'a+', 'a+', 'a+', 'b+', 'b+', 'b+', 'b+', 'b+'], ['c#', 'c#', 'c#', 'c#', 'c#', 'd#', 'd#', 'd#', 'd#', 'd#', 'd#', 'd#', 'd#', 'f#', 'f#', 'f#', 'g#', 'g#', 'g#', 'g#', 'g#', 'g#', 'a#', 'a#', 'a#', 'a#'], ['c#+', 'c#+', 'c#+', 'c#+', 'c#+', 'd#+', 'f#+', 'f#+', 'f#+', 'g#+', 'g#+', 'g#+', 'a#+', 'a#+', 'a#+']]\n"
       ]
      }
     ],
     "prompt_number": 180
    },
    {
     "cell_type": "code",
     "collapsed": false,
     "input": [
      "for group in q_t_multi:\n",
      "    print group"
     ],
     "language": "python",
     "metadata": {},
     "outputs": [
      {
       "output_type": "stream",
       "stream": "stdout",
       "text": [
        "['c', 'c', 'c', 'c', 'd', 'd', 'd', 'd', 'e', 'e', 'e', 'e', 'f', 'f', 'g', 'g', 'g', 'a', 'a', 'a', 'a', 'a', 'a', 'a', 'b', 'b', 'b', 'b', 'b']\n",
        "['c+', 'c+', 'c+', 'c+', 'c+', 'c+', 'c+', 'd+', 'd+', 'd+', 'd+', 'd+', 'd+', 'e+', 'e+', 'f+', 'f+', 'g+', 'g+', 'g+', 'g+', 'a+', 'a+', 'a+', 'a+', 'b+', 'b+', 'b+', 'b+', 'b+']\n",
        "['c#', 'c#', 'c#', 'c#', 'c#', 'd#', 'd#', 'd#', 'd#', 'd#', 'd#', 'd#', 'd#', 'f#', 'f#', 'f#', 'g#', 'g#', 'g#', 'g#', 'g#', 'g#', 'a#', 'a#', 'a#', 'a#']\n",
        "['c#+', 'c#+', 'c#+', 'c#+', 'c#+', 'd#+', 'f#+', 'f#+', 'f#+', 'g#+', 'g#+', 'g#+', 'a#+', 'a#+', 'a#+']\n"
       ]
      }
     ],
     "prompt_number": 181
    },
    {
     "cell_type": "code",
     "collapsed": false,
     "input": [
      "# print first and last item in each group\n",
      "for group in q_t_multi:\n",
      "    print group[0], \"\\t\", group[-1]"
     ],
     "language": "python",
     "metadata": {},
     "outputs": [
      {
       "output_type": "stream",
       "stream": "stdout",
       "text": [
        "c \tb\n",
        "c+ \tb+\n",
        "c# \ta#\n",
        "c#+ \ta#+\n"
       ]
      }
     ],
     "prompt_number": 182
    },
    {
     "cell_type": "code",
     "collapsed": false,
     "input": [
      "# boring. let's shuffle them\n",
      "\n",
      "print q_t_multi\n",
      "\n",
      "for group in q_t_multi:\n",
      "    random.shuffle(group)\n",
      "\n",
      "print q_t_multi    "
     ],
     "language": "python",
     "metadata": {},
     "outputs": [
      {
       "output_type": "stream",
       "stream": "stdout",
       "text": [
        "[['a', 'b', 'b', 'b', 'd', 'g', 'e', 'b', 'a', 'd', 'g', 'e', 'a', 'e', 'd', 'b', 'f', 'a', 'a', 'd', 'a', 'c', 'f', 'e', 'a', 'c', 'g', 'c', 'c'], ['c+', 'f+', 'a+', 'f+', 'd+', 'b+', 'e+', 'g+', 'd+', 'c+', 'c+', 'a+', 'd+', 'g+', 'a+', 'c+', 'g+', 'c+', 'b+', 'a+', 'c+', 'c+', 'd+', 'g+', 'e+', 'd+', 'd+', 'b+', 'b+', 'b+'], ['d#', 'c#', 'c#', 'd#', 'g#', 'd#', 'd#', 'a#', 'a#', 'g#', 'd#', 'g#', 'a#', 'd#', 'g#', 'd#', 'g#', 'f#', 'f#', 'c#', 'd#', 'c#', 'f#', 'a#', 'g#', 'c#'], ['a#+', 'd#+', 'f#+', 'g#+', 'a#+', 'c#+', 'a#+', 'c#+', 'f#+', 'c#+', 'g#+', 'c#+', 'f#+', 'g#+', 'c#+']]\n",
        "[['c', 'b', 'f', 'e', 'e', 'b', 'a', 'd', 'g', 'a', 'a', 'd', 'f', 'b', 'c', 'g', 'a', 'e', 'c', 'e', 'a', 'a', 'c', 'b', 'd', 'd', 'a', 'g', 'b'], ['b+', 'c+', 'f+', 'd+', 'd+', 'd+', 'c+', 'c+', 'b+', 'g+', 'd+', 'd+', 'e+', 'c+', 'c+', 'a+', 'g+', 'a+', 'a+', 'f+', 'c+', 'b+', 'a+', 'e+', 'c+', 'g+', 'g+', 'b+', 'b+', 'd+'], ['a#', 'd#', 'd#', 'c#', 'g#', 'c#', 'f#', 'a#', 'd#', 'g#', 'd#', 'g#', 'a#', 'a#', 'f#', 'c#', 'g#', 'd#', 'c#', 'f#', 'd#', 'c#', 'd#', 'g#', 'g#', 'd#'], ['g#+', 'f#+', 'c#+', 'a#+', 'a#+', 'c#+', 'c#+', 'c#+', 'g#+', 'g#+', 'f#+', 'f#+', 'a#+', 'd#+', 'c#+']]\n"
       ]
      }
     ],
     "prompt_number": 255
    },
    {
     "cell_type": "code",
     "collapsed": false,
     "input": [
      "# okay, they're all mixed up. let's make some weird chords\n",
      "\n",
      "for i in range(4):\n",
      "    chord = []\n",
      "    for group in q_t_multi:\n",
      "        chord.append(group[i])\n",
      "\n",
      "    print chord"
     ],
     "language": "python",
     "metadata": {},
     "outputs": [
      {
       "output_type": "stream",
       "stream": "stdout",
       "text": [
        "['c', 'b+', 'a#', 'g#+']\n",
        "['b', 'c+', 'd#', 'f#+']\n",
        "['f', 'f+', 'd#', 'c#+']\n",
        "['e', 'd+', 'c#', 'a#+']\n"
       ]
      }
     ],
     "prompt_number": 261
    },
    {
     "cell_type": "code",
     "collapsed": false,
     "input": [
      "print p_class_names\n"
     ],
     "language": "python",
     "metadata": {},
     "outputs": [
      {
       "output_type": "stream",
       "stream": "stdout",
       "text": [
        "['c', 'c#', 'd', 'd#', 'e', 'f', 'f#', 'g', 'g#', 'a', 'a#', 'bbbb']\n"
       ]
      }
     ],
     "prompt_number": 2
    },
    {
     "cell_type": "code",
     "collapsed": false,
     "input": [],
     "language": "python",
     "metadata": {},
     "outputs": []
    }
   ],
   "metadata": {}
  }
 ]
}