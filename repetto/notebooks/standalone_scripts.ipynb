{
 "metadata": {
  "name": ""
 },
 "nbformat": 3,
 "nbformat_minor": 0,
 "worksheets": [
  {
   "cells": [
    {
     "cell_type": "markdown",
     "metadata": {},
     "source": [
      "Let's take a look at making a standalone Python script. That is, a script that you would run from the command line like an application. \n",
      "\n",
      "We'll cover four main issues:\n",
      "\n",
      "<ul>\n",
      "<li>Making a script executable</li>\n",
      "<li>Command line arguments</li>\n",
      "<li>The main() function</li>\n",
      "<li>writing functions and creating your own library</li>\n",
      "</ul>\n",
      "\n",
      "Most of the code in this notebook won't run correctly in the notebook. It's meant to be copy and pasted into a text .py document and run from the command line..."
     ]
    },
    {
     "cell_type": "markdown",
     "metadata": {},
     "source": [
      "<h1>Making a script exectuable</h1>\n",
      "\n",
      "Let's make a really simply Python script we can run from the command line. First create an new file in some text editor. I use <a href=\"http://komodoide.com/komodo-edit/\">Komodo</a> Edit, but there are lots of good editors out there. Most of them will do automatic coloring, code completion, etc. for Python. <a href=\"http://mac.appstorm.net/roundups/web-dev/the-best-code-editors-for-your-mac-in-2013\">here</a> are some popular ones. You can also just use xcode since you already have it installed.\n",
      "\n",
      "So, create a text file, and paste in the code below:"
     ]
    },
    {
     "cell_type": "code",
     "collapsed": false,
     "input": [
      "print \"taco truck!\""
     ],
     "language": "python",
     "metadata": {},
     "outputs": [
      {
       "output_type": "stream",
       "stream": "stdout",
       "text": [
        "taco truck!\n"
       ]
      }
     ],
     "prompt_number": 3
    },
    {
     "cell_type": "markdown",
     "metadata": {},
     "source": [
      "Save the file as \"tacotruck.py\". Now open your Terminal, and use the cd (change directory) command to change into the directoy where you saved your file. Something like:\n",
      "\n",
      "<code>\n",
      "$ cd ~/Documents/programming_class/\n",
      "</code>\n",
      "\n",
      "Now to run the program you invoke the Python interpreter and pass it the name of your program:\n",
      "\n",
      "<code>\n",
      "$ python tacotruck.py<br>\n",
      "taco truck!\n",
      "</code>\n",
      "\n",
      "It worked! It's that easy!\n",
      "\n",
      "But you can make it even slicker. Go back to your tacktruck.py file and add this:\n"
     ]
    },
    {
     "cell_type": "code",
     "collapsed": false,
     "input": [
      "#!/usr/bin/env python\n",
      "\n",
      "print \"taco truck!\""
     ],
     "language": "python",
     "metadata": {},
     "outputs": [
      {
       "output_type": "stream",
       "stream": "stdout",
       "text": [
        "taco truck!\n"
       ]
      }
     ],
     "prompt_number": 4
    },
    {
     "cell_type": "markdown",
     "metadata": {},
     "source": [
      "The line:"
     ]
    },
    {
     "cell_type": "code",
     "collapsed": false,
     "input": [
      "#!/usr/bin/env python"
     ],
     "language": "python",
     "metadata": {},
     "outputs": [],
     "prompt_number": 5
    },
    {
     "cell_type": "markdown",
     "metadata": {},
     "source": [
      "will invoke the Python interpreter for you so that you don't have to do it explicitly. That means you can just type the name of your program and it will run. BUT, we have to do one tweaky little thing first. We have to let the OS know that your Python script is an executable. So type this:\n",
      "\n",
      "<code>\n",
      "$ chmod a+x tacotruck.py\n",
      "</code>\n",
      "\n",
      "chmod means \"change mode\" and a+x means \"add the execute (x) flag for all (a) users\" to the file tacotruck.py. Now when you want to run the program you just type:\n",
      "\n",
      "<code>\n",
      "$ ./tacotruck.py\n",
      "taco truck!\n",
      "</code>\n",
      "\n",
      "The \"./\" part means \"look for this program in my current (./) directory\". If you store the program somewhere else you just put the path in, like this:\n",
      "\n",
      "<code>\n",
      "$ /Users/elvira/Documents/evil_plans/domination.py\n",
      "</code>\n"
     ]
    },
    {
     "cell_type": "markdown",
     "metadata": {},
     "source": [
      "<h1>Command line arguments</h1>\n",
      "\n",
      "Most of the time we'll want to pass some information in to our Python script so that it can do something intersting rather than just printing \"taco truck!\" That's what command line arguments are for. In a GUI-based application you pull down menus and click interface elements to set the parameters for various operations you're going to perform. When running a command line program you do the same things with command line arguments.\n",
      "\n",
      "We're already used a command line argument:\n",
      "\n",
      "<code>\n",
      "$ python tacotruck.py\n",
      "</code>\n",
      "\n",
      "where \"tacotruck.py\" is an argument passed to the python program.\n",
      "\n",
      "Let's make a script that takes a command line arguments. Create a new text file called \"lunch_place.py\", and paste in:"
     ]
    },
    {
     "cell_type": "code",
     "collapsed": false,
     "input": [
      "#!/usr/bin/env python\n",
      "\n",
      "import sys\n",
      "\n",
      "# our command line arguments are stored in a list called sys.argv\n",
      "# there will always be at least one argument, the name of our script\n",
      "# each additional argument will be an item in the list\n",
      "print 'Number of arguments:', len(sys.argv), 'arguments.'\n",
      "print 'Argument List:', str(sys.argv)\n"
     ],
     "language": "python",
     "metadata": {},
     "outputs": [
      {
       "output_type": "stream",
       "stream": "stdout",
       "text": [
        "Number of arguments: 7 arguments.\n",
        "Argument List: ['-c', '-f', '/Users/douglas/.ipython/profile_default/security/kernel-01952359-ef71-4ec7-9991-b1eff391c7e4.json', \"--IPKernelApp.parent_appname='ipython-notebook'\", '--profile-dir', '/Users/douglas/.ipython/profile_default', '--parent=1']\n"
       ]
      }
     ],
     "prompt_number": 6
    },
    {
     "cell_type": "markdown",
     "metadata": {},
     "source": [
      "Now make it executable and run it:\n",
      "\n",
      "<code>\n",
      "$ chmod a+x lunch_place.py\n",
      "$ ./lunch_place.py\n",
      "Number of arguments: 1 arguments.\n",
      "Argument List: ['./lunch_place.py']\n",
      "</code>\n",
      "\n",
      "Then run it again with an argument. It doesn't matter what we use at this point:\n",
      "\n",
      "<code>\n",
      "$ ./lunch_place.py bleeeeeep\n",
      "Number of arguments: 2 arguments.\n",
      "Argument List: ['./lunch_place.py', 'bleeeeeep']\n",
      "</code>\n"
     ]
    },
    {
     "cell_type": "markdown",
     "metadata": {},
     "source": [
      "In our script we'll require exactly one argument (in addition to the script name). So let's parse the argument list to see if we got one:"
     ]
    },
    {
     "cell_type": "code",
     "collapsed": false,
     "input": [
      "#!/usr/bin/env python\n",
      "\n",
      "import sys\n",
      "\n",
      "# our command line arguments are stored in a list called sys.argv\n",
      "# there will always be at least one argument, the name of our script\n",
      "# each additional argument will be an item in the list\n",
      "\n",
      "if len(sys.argv) != 2:\n",
      "    print \"please provide exactly one argument!\"\n",
      "    # quit the program with an error message, in this case, a -1\n",
      "    sys.exit(-1)\n",
      "\n",
      "lunch_spot = sys.argv[1]\n",
      "\n",
      "print \"You'd like to get lunch from a\", lunch_spot, \"!\"\n",
      "\n"
     ],
     "language": "python",
     "metadata": {},
     "outputs": [
      {
       "ename": "SystemExit",
       "evalue": "-1",
       "output_type": "pyerr",
       "traceback": [
        "An exception has occurred, use %tb to see the full traceback.\n",
        "\u001b[0;31mSystemExit\u001b[0m\u001b[0;31m:\u001b[0m -1\n"
       ]
      },
      {
       "output_type": "stream",
       "stream": "stdout",
       "text": [
        "please provide exactly one argument!\n"
       ]
      },
      {
       "output_type": "stream",
       "stream": "stderr",
       "text": [
        "To exit: use 'exit', 'quit', or Ctrl-D.\n"
       ]
      }
     ],
     "prompt_number": 7
    },
    {
     "cell_type": "markdown",
     "metadata": {},
     "source": [
      "Now run it. Put quotes around \"taco truck\" so that it's passed in as a single argument. taco truck with no quotes would be read as \"taco\" and \"truck\".\n",
      "\n",
      "<code>\n",
      "$ ./lunch_place.py \"taco truck\"\n",
      "You'd like to get lunch from a taco truck!\n",
      "</code>\n",
      "\n",
      "Passing in a string like \"taco truck\" is what you'd do to, say, select a file for processing. To set parameters you typically use \"flags\", which looks like this:\n",
      "\n",
      "<code>\n",
      "$ ls -la\n",
      "</code>\n",
      "\n",
      "Where the program is \"ls\" (list directory) and the flag is \"l\" (long). This command will list the files in a directory using a \"long\" format, meaning it'll provide more info about them. The \"-\" is a convention that helps tell flags from other sorts of command line arguments.\n",
      "\n",
      "Let's use a flag in our program. \n"
     ]
    },
    {
     "cell_type": "code",
     "collapsed": false,
     "input": [
      "#!/usr/bin/env python\n",
      "\n",
      "import sys\n",
      "\n",
      "\n",
      "'''\n",
      "usage: lunch_place.py [options] \"food type\"\n",
      "\n",
      "options:\n",
      "-t truck\n",
      "-r restaurant\n",
      "\n",
      "examples:\n",
      "$ lunch_place.py -r taco\n",
      "Let's get lunch from a taco restaurant!\n",
      "\n",
      "$ lunch_place.py -t halal\n",
      "Let's get lunch from a halal truck!\n",
      "\n",
      "'''\n",
      "\n",
      "\n",
      "# we need exactly 3 arguments, the program name, the flag, and the type of food\n",
      "# this approach is only viable in very simple situations\n",
      "\n",
      "if len(sys.argv) != 3:\n",
      "    print \"Please provide exactly three arguments.\"\n",
      "    # quit the program with an error message, in this case, a -1\n",
      "    sys.exit(-1)\n",
      "\n",
      "venue_flag = sys.argv[1]\n",
      "food_type = sys.argv[2]\n",
      "\n",
      "if venue_flag.endswith(\"r\"):\n",
      "    venue_type = \"restaurant\"\n",
      "elif venue_flag.endswith(\"t\"):\n",
      "    venue_type = \"truck\"\n",
      "else:\n",
      "    print \"I don't know the\", venud_flag, \"flag!\"\n",
      "    sys.exit(-1)\n",
      "\n",
      "\n",
      "\n",
      "print \"You'd like to get lunch from a \" + food_type + \" \" + venue_type + \"!\"\n"
     ],
     "language": "python",
     "metadata": {},
     "outputs": [
      {
       "ename": "SystemExit",
       "evalue": "-1",
       "output_type": "pyerr",
       "traceback": [
        "An exception has occurred, use %tb to see the full traceback.\n",
        "\u001b[0;31mSystemExit\u001b[0m\u001b[0;31m:\u001b[0m -1\n"
       ]
      },
      {
       "output_type": "stream",
       "stream": "stdout",
       "text": [
        "Please provide exactly three arguments.\n"
       ]
      },
      {
       "output_type": "stream",
       "stream": "stderr",
       "text": [
        "To exit: use 'exit', 'quit', or Ctrl-D.\n"
       ]
      }
     ],
     "prompt_number": 8
    },
    {
     "cell_type": "markdown",
     "metadata": {},
     "source": [
      "If your command line arguments are going to get much more complex than this then you probably want to use the built in argument parsing tools:\n",
      "\n",
      "https://docs.python.org/2/library/argparse.html#module-argparse\n",
      "\n",
      "Let's make a little melody munger that uses argparse. Create a new python file called melody_munger.py. Run the chmod command on it to make it executable. Here's the code:"
     ]
    },
    {
     "cell_type": "code",
     "collapsed": false,
     "input": [
      "#!/usr/bin/env python\n",
      "\n",
      "import sys\n",
      "import argparse\n",
      "\n",
      "def process_arguments():\n",
      "    '''Argparse function to get the program parameters'''\n",
      "    \n",
      "    parser = argparse.ArgumentParser(description='munges a melody in interesting ways.')\n",
      "    \n",
      "    parser.add_argument(    'munge_type',\n",
      "                        action      =   'store',\n",
      "                        help        =   'type of munging to apply (jiggle, invert, tweak)')\n",
      "                        \n",
      "    parser.add_argument(    'melody',\n",
      "                        action      =   'store',\n",
      "                        help        =   'input melody, using scale degrees: \\\"0,2,4,5,7,9,11\\\"')\n",
      "                                            \n",
      "    return vars(parser.parse_args(sys.argv[1:]))\n",
      "\n",
      "parameters = process_arguments()\n",
      "print parameters\n",
      "\n",
      "# get them by name:\n",
      "print \"munge_type is:\", parameters['munge_type']\n",
      "print \"melody is:\", parameters['melody']\n",
      "\n"
     ],
     "language": "python",
     "metadata": {},
     "outputs": [],
     "prompt_number": 10
    },
    {
     "cell_type": "markdown",
     "metadata": {},
     "source": [
      "<code>\n",
      "$ ./melody_munger.py -h\n",
      "usage: melody_munger.py [-h] munge_type melody\n",
      "\n",
      "munges a melody in interesting ways.\n",
      "\n",
      "positional arguments:\n",
      "  munge_type  type of munging to apply (jiggle, invert, tweak)\n",
      "  melody      input melody, using scale degrees: \"0,2,4,5,7,9,11\"\n",
      "\n",
      "optional arguments:\n",
      "  -h, --help  show this help message and exit\n",
      "\n",
      "$ ./melody_munger.py taco\n",
      "usage: melody_munger.py [-h] munge_type melody\n",
      "melody_munger.py: error: too few arguments\n",
      "\n",
      "$ ./melody_munger.py taco truck\n",
      "{'melody': 'truck', 'munge_type': 'taco'}\n",
      "munge_type is: taco\n",
      "melody is: truck\n",
      "</code>\n",
      "\n",
      "\n",
      "Ok! Now we can easily parse complex arguments. Let's write a few quick mungers to test this out.\n",
      "\n"
     ]
    },
    {
     "cell_type": "code",
     "collapsed": false,
     "input": [
      "#!/usr/bin/env python\n",
      "\n",
      "import sys\n",
      "import argparse\n",
      "import random\n",
      "\n",
      "def process_arguments():\n",
      "    '''Argparse function to get the program parameters'''\n",
      "    \n",
      "    parser = argparse.ArgumentParser(description='munges a melody in interesting ways.')\n",
      "    \n",
      "    parser.add_argument(    'munge_type',\n",
      "                        action      =   'store',\n",
      "                        help        =   'type of munging to apply (jiggle, reverse, tweak)')\n",
      "                        \n",
      "    parser.add_argument(    'melody',\n",
      "                        action      =   'store',\n",
      "                        help        =   'input melody, using scale degrees: \\\"0,2,4,5,7,9,11\\\"')\n",
      "                                            \n",
      "    return vars(parser.parse_args(sys.argv[1:]))\n",
      "\n",
      "\n",
      "# just reorder the notes\n",
      "def do_jiggle(melody):\n",
      "    m = melody[:]\n",
      "    random.shuffle(m)\n",
      "    return m\n",
      "\n",
      "# reverse the order\n",
      "def do_reverse(melody):\n",
      "    return melody[::-1]\n",
      "\n",
      "# pick a note and shift it\n",
      "def do_tweak(melody):\n",
      "    note_num = random.randint(0,len(melody))\n",
      "    melody[note_num] += random.choice([-1,1])\n",
      "    return melody\n",
      "\n",
      "parameters = process_arguments()\n",
      "print parameters\n",
      "\n",
      "# get them by name:\n",
      "print \"munge_type is:\", parameters['munge_type']\n",
      "print \"melody string is:\", parameters['melody']\n",
      "\n",
      "melody_string = parameters['melody'].split(\",\")\n",
      "melody_list = [int(i) for i in melody_string]\n",
      "\n",
      "print \"melody list is:\", melody_list\n",
      "\n",
      "new_melody = []\n",
      "\n",
      "# let's see if we recognize the munge type:\n",
      "\n",
      "if parameters['munge_type'] == \"jiggle\":\n",
      "    new_melody = do_jiggle(melody_list)\n",
      "elif parameters['munge_type'] == \"reverse\":\n",
      "    new_melody = do_reverse(melody_list)\n",
      "elif parameters['munge_type'] == \"tweak\":\n",
      "    new_melody = do_tweak(melody_list)\n",
      "else:\n",
      "    # you should print something useful here...\n",
      "    print \"BORKED!\"\n",
      "\n",
      "print \"new melody\", new_melody\n",
      "\n"
     ],
     "language": "python",
     "metadata": {},
     "outputs": [
      {
       "metadata": {},
       "output_type": "pyout",
       "prompt_number": 22,
       "text": [
        "-1"
       ]
      }
     ],
     "prompt_number": 22
    },
    {
     "cell_type": "markdown",
     "metadata": {},
     "source": [
      "<code>\n",
      "$ ./melody_munger.py jiggle \"0,2,4,6,8\"\n",
      "{'melody': '0,2,4,6,8', 'munge_type': 'jiggle'}\n",
      "munge_type is: jiggle\n",
      "melody string is: 0,2,4,6,8\n",
      "melody list is: [0, 2, 4, 6, 8]\n",
      "new melody [8, 6, 2, 4, 0]\n",
      "$\n",
      "$ ./melody_munger.py reverse \"0,2,4,6,8\"\n",
      "{'melody': '0,2,4,6,8', 'munge_type': 'reverse'}\n",
      "munge_type is: reverse\n",
      "melody string is: 0,2,4,6,8\n",
      "melody list is: [0, 2, 4, 6, 8]\n",
      "new melody [8, 6, 4, 2, 0]\n",
      "$\n",
      "$ ./melody_munger.py tweak \"0,2,4,6,8\"\n",
      "{'melody': '0,2,4,6,8', 'munge_type': 'tweak'}\n",
      "munge_type is: tweak\n",
      "melody string is: 0,2,4,6,8\n",
      "melody list is: [0, 2, 4, 6, 8]\n",
      "new melody [-1, 2, 4, 6, 8]\n",
      "\n",
      "</code>\n",
      "\n",
      "\n",
      "Okay, that works!\n",
      "\n"
     ]
    },
    {
     "cell_type": "markdown",
     "metadata": {},
     "source": [
      "<h1>The main function</h1>\n",
      "\n",
      "Many programming languages use a \"main function\" as the starting point to a program. When you run the program, the first thing that happens is the main function. This is a lot like the setup() in Arduino or Processing code. \n",
      "\n",
      "But why would we want to do this? As we saw above, our code works! Well, we're working on a toy program right now. It's very short and simple. For short, simple programs/scripts, what we've done is fine. But once your code gets more comlpex, and in particular, once you start writing a lot of functions and start building modular code, you'll want to encapsulate everything you write in functions statements. The code above is just sorta floating around. Adding a main statement lets us encapsulate everything, and, as we'll see below, it lets us treat our functions as little modules that can be called from elsewhere.\n",
      "\n",
      "Let's add a main to our program so that it's totally stand-alone and legit.\n",
      "\n"
     ]
    },
    {
     "cell_type": "code",
     "collapsed": false,
     "input": [
      "#!/usr/bin/env python\n",
      "\n",
      "import sys\n",
      "import argparse\n",
      "import random\n",
      "\n",
      "def process_arguments():\n",
      "    '''Argparse function to get the program parameters'''\n",
      "    \n",
      "    parser = argparse.ArgumentParser(description='munges a melody in interesting ways.')\n",
      "    \n",
      "    parser.add_argument(    'munge_type',\n",
      "                        action      =   'store',\n",
      "                        help        =   'type of munging to apply (jiggle, reverse, tweak)')\n",
      "                        \n",
      "    parser.add_argument(    'melody',\n",
      "                        action      =   'store',\n",
      "                        help        =   'input melody, using scale degrees: \\\"0,2,4,5,7,9,11\\\"')\n",
      "                                            \n",
      "    return vars(parser.parse_args(sys.argv[1:]))\n",
      "\n",
      "\n",
      "# just reorder the notes\n",
      "def do_jiggle(melody):\n",
      "    m = melody[:]\n",
      "    random.shuffle(m)\n",
      "    return m\n",
      "\n",
      "# reverse the order\n",
      "def do_reverse(melody):\n",
      "    return melody[::-1]\n",
      "\n",
      "# pick a note and shift it\n",
      "# num_tweaks has a default value!\n",
      "def do_tweak(melody, num_tweaks = 1):\n",
      "    note_num = random.randint(0,len(melody) - 1)\n",
      "    melody[note_num] += random.choice([-1,1])\n",
      "    return melody\n",
      "\n",
      "\n",
      "def melody_munger(munge_type, melody):\n",
      "\n",
      "    print \"doing \" + munge_type + \" on\", melody\n",
      "\n",
      "    new_melody = []\n",
      "\n",
      "    # let's see if we recognize the munge type:\n",
      "\n",
      "    if parameters['munge_type'] == \"jiggle\":\n",
      "        new_melody = do_jiggle(melody_list)\n",
      "    elif parameters['munge_type'] == \"reverse\":\n",
      "        new_melody = do_reverse(melody_list)\n",
      "    elif parameters['munge_type'] == \"tweak\":\n",
      "        new_melody = do_tweak(melody_list)\n",
      "    else:\n",
      "        # you should print something useful here...\n",
      "        print \"BORKED!\"\n",
      "\n",
      "    print \"new melody\", new_melody\n",
      "\n",
      "\n",
      "# when we call the program from the command line, this code will be run\n",
      "if __name__ == '__main__':\n",
      "    # Get the parameters\n",
      "    parameters = process_arguments()\n",
      "    \n",
      "    munge_string = parameters['munge_type']\n",
      "    \n",
      "    if (munge_string != \"jiggle\") & (munge_string != \"reverse\") & (munge_string != \"tweak\"):\n",
      "        print \"BORKED!\"\n",
      "        sys.exit(-1)\n",
      "    \n",
      "    melody_string = parameters['melody'].split(\",\")\n",
      "    melody_list = [int(i) for i in melody_string]\n",
      "    \n",
      "    # run our main routine\n",
      "    melody_munger(munge_string, melody_list)\n",
      "\n"
     ],
     "language": "python",
     "metadata": {},
     "outputs": [
      {
       "ename": "SystemExit",
       "evalue": "2",
       "output_type": "pyerr",
       "traceback": [
        "An exception has occurred, use %tb to see the full traceback.\n",
        "\u001b[0;31mSystemExit\u001b[0m\u001b[0;31m:\u001b[0m 2\n"
       ]
      },
      {
       "output_type": "stream",
       "stream": "stderr",
       "text": [
        "usage: -c [-h] munge_type melody\n",
        "-c: error: unrecognized arguments: -f --IPKernelApp.parent_appname='ipython-notebook' --profile-dir --parent=1\n",
        "To exit: use 'exit', 'quit', or Ctrl-D.\n"
       ]
      }
     ],
     "prompt_number": 42
    },
    {
     "cell_type": "markdown",
     "metadata": {},
     "source": [
      "<h1>Making a library</h1>\n",
      "\n",
      "Okay, we have a legit program with a main. Wonderful. What if we want to use parts of our program elsewhere? Our melody_munger() function is really just a toy to test whether our munging functions are working correctly. But the idea of having a bunch of routines to manipulate a given melody might be useful in lots of contexts. So let's see how we treat our melody_munger routines as a library.\n",
      "\n",
      "Create a new python file called \"tears_without_eyes.py\". chmod it so that it's executable. Here's the code:"
     ]
    },
    {
     "cell_type": "code",
     "collapsed": false,
     "input": [
      "#!/usr/bin/env python\n",
      "\n",
      "'''\n",
      "    \n",
      "Creates world's saddest melodies\n",
      "\n",
      "Argument is number of melodic iterations. Defaults to seven.\n",
      "\n",
      "Usage:   ./tears_without_eyes 5\n",
      "    \n",
      "'''\n",
      "\n",
      "import sys\n",
      "import argparse\n",
      "import random\n",
      "import melody_munger\n",
      "\n",
      "\n",
      "# num = 7 is a default argument. If you pass in nothing, num will equal 7. Otherwise it'll equal whatever you passed in.\n",
      "def make_them_weep(num = 7):\n",
      "    print \"weeping\", num, \"times!\"\n",
      "\n",
      "    num_notes = random.randint(4, 13)\n",
      "    \n",
      "    melody = []\n",
      "    \n",
      "    for i in range(num_notes):\n",
      "        melody.append(random.randint(60, 72))\n",
      "\n",
      "    print melody\n",
      "\n",
      "    for i in range(num - 1):\n",
      "        munger = random.randint(0,4)\n",
      "\n",
      "        if munger == 0:\n",
      "            melody = melody_munger.do_jiggle(melody)\n",
      "        elif munger == 1:\n",
      "            melody = melody_munger.do_reverse(melody)\n",
      "        else:\n",
      "            # three ways to call do_tweak()\n",
      "            #melody = melody_munger.do_tweak(melody)\n",
      "            melody = melody_munger.do_tweak(melody, random.randint(1,5))\n",
      "            #melody = melody_munger.do_tweak(melody, num_tweaks = 3)\n",
      "\n",
      "        print melody\n",
      "\n",
      "\n",
      "# when we call the program from the command line, this code will be run\n",
      "if __name__ == '__main__':\n",
      "\n",
      "    if len(sys.argv) == 2:\n",
      "        make_them_weep(int(sys.argv[1]))\n",
      "    else:\n",
      "        make_them_weep()\n"
     ],
     "language": "python",
     "metadata": {},
     "outputs": [
      {
       "ename": "TypeError",
       "evalue": "do_tweak() takes exactly 1 argument (2 given)",
       "output_type": "pyerr",
       "traceback": [
        "\u001b[0;31m---------------------------------------------------------------------------\u001b[0m\n\u001b[0;31mTypeError\u001b[0m                                 Traceback (most recent call last)",
        "\u001b[0;32m<ipython-input-41-2e6901c05d87>\u001b[0m in \u001b[0;36m<module>\u001b[0;34m()\u001b[0m\n\u001b[1;32m     52\u001b[0m         \u001b[0mmake_them_weep\u001b[0m\u001b[0;34m(\u001b[0m\u001b[0mint\u001b[0m\u001b[0;34m(\u001b[0m\u001b[0msys\u001b[0m\u001b[0;34m.\u001b[0m\u001b[0margv\u001b[0m\u001b[0;34m[\u001b[0m\u001b[0;36m1\u001b[0m\u001b[0;34m]\u001b[0m\u001b[0;34m)\u001b[0m\u001b[0;34m)\u001b[0m\u001b[0;34m\u001b[0m\u001b[0m\n\u001b[1;32m     53\u001b[0m     \u001b[0;32melse\u001b[0m\u001b[0;34m:\u001b[0m\u001b[0;34m\u001b[0m\u001b[0m\n\u001b[0;32m---> 54\u001b[0;31m         \u001b[0mmake_them_weep\u001b[0m\u001b[0;34m(\u001b[0m\u001b[0;34m)\u001b[0m\u001b[0;34m\u001b[0m\u001b[0m\n\u001b[0m",
        "\u001b[0;32m<ipython-input-41-2e6901c05d87>\u001b[0m in \u001b[0;36mmake_them_weep\u001b[0;34m(num)\u001b[0m\n\u001b[1;32m     40\u001b[0m             \u001b[0;31m# three ways to call do_tweak()\u001b[0m\u001b[0;34m\u001b[0m\u001b[0;34m\u001b[0m\u001b[0m\n\u001b[1;32m     41\u001b[0m             \u001b[0;31m#melody = melody_munger.do_tweak(melody)\u001b[0m\u001b[0;34m\u001b[0m\u001b[0;34m\u001b[0m\u001b[0m\n\u001b[0;32m---> 42\u001b[0;31m             \u001b[0mmelody\u001b[0m \u001b[0;34m=\u001b[0m \u001b[0mmelody_munger\u001b[0m\u001b[0;34m.\u001b[0m\u001b[0mdo_tweak\u001b[0m\u001b[0;34m(\u001b[0m\u001b[0mmelody\u001b[0m\u001b[0;34m,\u001b[0m \u001b[0mrandom\u001b[0m\u001b[0;34m.\u001b[0m\u001b[0mrandint\u001b[0m\u001b[0;34m(\u001b[0m\u001b[0;36m1\u001b[0m\u001b[0;34m,\u001b[0m\u001b[0;36m5\u001b[0m\u001b[0;34m)\u001b[0m\u001b[0;34m)\u001b[0m\u001b[0;34m\u001b[0m\u001b[0m\n\u001b[0m\u001b[1;32m     43\u001b[0m             \u001b[0;31m#melody = melody_munger.do_tweak(melody, num_tweaks = 3)\u001b[0m\u001b[0;34m\u001b[0m\u001b[0;34m\u001b[0m\u001b[0m\n\u001b[1;32m     44\u001b[0m \u001b[0;34m\u001b[0m\u001b[0m\n",
        "\u001b[0;31mTypeError\u001b[0m: do_tweak() takes exactly 1 argument (2 given)"
       ]
      },
      {
       "output_type": "stream",
       "stream": "stdout",
       "text": [
        "weeping 7 times!\n",
        "[67, 72, 66, 68, 71, 65, 70, 69]\n",
        "[69, 70, 65, 71, 68, 66, 72, 67]\n",
        "[67, 72, 66, 68, 71, 65, 70, 69]\n"
       ]
      }
     ],
     "prompt_number": 41
    },
    {
     "cell_type": "markdown",
     "metadata": {},
     "source": [
      "<code>\n",
      "$ ./tears_without_eyes.py\n",
      "weeping 7 times!\n",
      "[63, 70, 62, 60, 70, 69, 65, 70, 64, 62, 68, 68]\n",
      "[70, 64, 70, 68, 60, 62, 62, 63, 69, 68, 70, 65]\n",
      "[69, 64, 70, 68, 60, 62, 62, 63, 69, 68, 70, 65]\n",
      "[65, 70, 68, 69, 63, 62, 62, 60, 68, 70, 64, 69]\n",
      "[65, 70, 68, 69, 63, 62, 62, 60, 68, 71, 64, 69]\n",
      "[65, 70, 68, 69, 63, 63, 62, 60, 68, 71, 64, 69]\n",
      "[69, 64, 71, 68, 60, 62, 63, 63, 69, 68, 70, 65]\n",
      "$\n",
      "$ ./tears_without_eyes.py 3\n",
      "weeping 3 times!\n",
      "[64, 68, 71, 71, 62]\n",
      "[64, 68, 71, 71, 63]\n",
      "[65, 68, 71, 71, 63]\n"
     ]
    },
    {
     "cell_type": "markdown",
     "metadata": {},
     "source": [
      "So you can import your own code in the same way you import external libraries. When you type \"import melody_munger\", Python will first look in your current folder for a file called \"melody_munger.py\". If it finds it, it'll import the functions in that file. If it doesn't find it, it'll start looking in various other standard folders on your system. \n",
      "\n",
      "You can also make more complex folder structures. \n",
      "\n",
      "Create a folder called \"frozen\". Inside that folder, save an empty file called \"\\_\\_init\\_\\_.py\". That file tells Python that this folder is a legit python library folder. Don't forget to do this with every library folder you create!\n",
      "\n",
      "Inside the frozen folder create another folder called \"creatures\". Put an empty \"\\_\\_init\\_\\_.py\" file in that folder.\n",
      "\n",
      "Inside the creatures folder put two python files called humans.py and non_humans.py:\n",
      "\n",
      "            "
     ]
    },
    {
     "cell_type": "code",
     "collapsed": false,
     "input": [
      "# humans.py\n",
      "\n",
      "humans = [\"elsa\", \"anna\", \"hans\", \"kristoff\"]\n",
      "\n",
      "def list():\n",
      "    for h in humans:\n",
      "        print h\n",
      "\n",
      "def count():\n",
      "    print len(humans)\n"
     ],
     "language": "python",
     "metadata": {},
     "outputs": [],
     "prompt_number": 44
    },
    {
     "cell_type": "code",
     "collapsed": false,
     "input": [
      "# non-humans.py\n",
      "\n",
      "non_humans = [\"olaf\", \"sven\", \"snow monster\"]\n",
      "\n",
      "def list():\n",
      "    for n_h in non_humans:\n",
      "        print n_h\n",
      "\n",
      "def count():\n",
      "    print len(non_humans)\n"
     ],
     "language": "python",
     "metadata": {},
     "outputs": [],
     "prompt_number": 45
    },
    {
     "cell_type": "markdown",
     "metadata": {},
     "source": [
      "So now you have a structure like this:\n",
      "\n",
      "<code>\n",
      "top level directory\n",
      "    frozen\n",
      "        \\_\\_init\\_\\_.py\n",
      "        creatures\n",
      "            \\_\\_init\\_\\_.py\n",
      "            humans.py\n",
      "            non_humans.py\n",
      "</code>\n",
      "\n",
      "Now you can write nice clean code that imports your own libraries and defined functions and uses them just like other Python libraries. \n",
      "\n",
      "Save frozen_app.py in your top-level directory, the one that contains the frozen folder. NOT inside the frozen folder!"
     ]
    },
    {
     "cell_type": "code",
     "collapsed": false,
     "input": [
      "#!/usr/bin/env python\n",
      "\n",
      "'''\n",
      "useless!\n",
      "\n",
      "'''\n",
      "\n",
      "from frozen.creatures import humans\n",
      "from frozen.creatures import non_humans\n",
      "\n",
      "\n",
      "def freeze():\n",
      "\n",
      "    print \"humans in frozen:\"\n",
      "    humans.list()\n",
      "    print\n",
      "    print \"number of humans:\"\n",
      "    humans.count()\n",
      "\n",
      "    print\n",
      "\n",
      "    print \"non-humans in frozen:\"\n",
      "    non_humans.list()\n",
      "    print\n",
      "    print \"number of non-humans:\"\n",
      "    non_humans.count()\n",
      "\n",
      "\n",
      "\n",
      "# when we call the program from the command line, this code will be run\n",
      "if __name__ == '__main__':\n",
      "    \n",
      "    freeze()\n"
     ],
     "language": "python",
     "metadata": {},
     "outputs": [
      {
       "output_type": "stream",
       "stream": "stdout",
       "text": [
        "humans in frozen:\n",
        "elsa\n",
        "anna\n",
        "hans\n",
        "kristoff\n",
        "\n",
        "number of humans:\n",
        "4\n",
        "\n",
        "non-humans in frozen:\n",
        "olaf\n",
        "sven\n",
        "snow monster\n",
        "\n",
        "number of non-humans:\n",
        "3\n"
       ]
      }
     ],
     "prompt_number": 46
    },
    {
     "cell_type": "markdown",
     "metadata": {},
     "source": [
      "<code>\n",
      "$ ./frozen_app.py \n",
      "humans in frozen:\n",
      "elsa\n",
      "anna\n",
      "hans\n",
      "kristoff\n",
      "\n",
      "number of humans:\n",
      "4\n",
      "\n",
      "non-humans in frozen:\n",
      "olaf\n",
      "sven\n",
      "snow monster\n",
      "\n",
      "number of non-humans:\n",
      "3\n",
      "</code>"
     ]
    },
    {
     "cell_type": "markdown",
     "metadata": {},
     "source": [
      "Of course this is a very quick treatment of a complex topic. There are all sorts of time/frustration saving techniques you can use in creating your own modules. More basic info here:\n",
      "\n",
      "https://docs.python.org/2/tutorial/modules.html\n",
      "\n"
     ]
    },
    {
     "cell_type": "code",
     "collapsed": false,
     "input": [],
     "language": "python",
     "metadata": {},
     "outputs": []
    }
   ],
   "metadata": {}
  }
 ]
}