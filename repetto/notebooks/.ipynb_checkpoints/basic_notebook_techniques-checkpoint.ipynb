{
 "cells": [
  {
   "cell_type": "markdown",
   "metadata": {},
   "source": [
    "Let's do some really simple things to get familiar with the notebook environment.\n",
    "\n",
    "This is a text cell for writing notes, documentation, comments, etc. I made it by going to the <b>Cell</b> menu above, and selecting <b>Cell Type->Markdown</b>. You can use html style tags to format the text. Double click on this cell to see the source. "
   ]
  },
  {
   "cell_type": "markdown",
   "metadata": {},
   "source": [
    "The first thing we typically do is import some libraries. You can always come back up here and add more libraries, as long as you re-execute the code block after changing the code. "
   ]
  },
  {
   "cell_type": "markdown",
   "metadata": {},
   "source": [
    "To execute a code block you have a few options. One is shift+enter. That will execute the code block and automatically take you to the next one. control+enter will execute a code block but keep you on the same one. That's useful when you're running an unpredictable process and want to run it several times in a row to see different outputs. Let's try it below.\n"
   ]
  },
  {
   "cell_type": "code",
   "execution_count": 1,
   "metadata": {
    "collapsed": false
   },
   "outputs": [],
   "source": [
    "# type shift+enter to run this cell and move on to the next\n",
    "\n",
    "# some imports\n",
    "import random\n",
    "import time"
   ]
  },
  {
   "cell_type": "code",
   "execution_count": 12,
   "metadata": {
    "collapsed": false
   },
   "outputs": [
    {
     "name": "stdout",
     "output_type": "stream",
     "text": [
      "0.259895735852\n",
      "0.91024717332\n",
      "0.877650764227\n",
      "0.760006409943\n",
      "0.961960231843\n",
      "0.692297618796\n",
      "0.923261966917\n",
      "0.0849122961988\n",
      "0.236947751869\n",
      "0.391289074649\n"
     ]
    }
   ],
   "source": [
    "#press control+enter each time you want to re-run this cell\n",
    "\n",
    "for i in range(10):\n",
    "    print random.random()"
   ]
  },
  {
   "cell_type": "markdown",
   "metadata": {},
   "source": [
    "If you define a variable in a cell its value is available to all following cells. If you change the value of that variable you need to re-run all cells below the point where you changed it so that they receive the new value. The <b>Cell</b> menu has various options to make this easier, like <b>Run all above</b> and <b>Run all below</b>"
   ]
  },
  {
   "cell_type": "code",
   "execution_count": 17,
   "metadata": {
    "collapsed": false
   },
   "outputs": [],
   "source": [
    "num_tacos_desired = 17\n"
   ]
  },
  {
   "cell_type": "code",
   "execution_count": 18,
   "metadata": {
    "collapsed": false
   },
   "outputs": [
    {
     "name": "stdout",
     "output_type": "stream",
     "text": [
      "h o w   m a n y   t a c o s   w o u l d   y o u   l i k e ?\n"
     ]
    }
   ],
   "source": [
    "tacos_string = \"how many tacos would you like?\"\n",
    "\n",
    "# putting a , after a print statement makes the next print statement continue on the same line!\n",
    "for c in tacos_string:\n",
    "    print c,\n",
    "    # make sure you've imported the time library above!\n",
    "    time.sleep(0.25)"
   ]
  },
  {
   "cell_type": "markdown",
   "metadata": {},
   "source": [
    "Execute the block below, then change the variable above and re-execute this block. The result should not change. Now go back up and re-execute the code block above, then this one. Now you should see the new variable value.\n"
   ]
  },
  {
   "cell_type": "code",
   "execution_count": 40,
   "metadata": {
    "collapsed": false
   },
   "outputs": [
    {
     "name": "stdout",
     "output_type": "stream",
     "text": [
      "I'd like 17 tacos, please.\n"
     ]
    }
   ],
   "source": [
    "print \"I'd like \" + str(num_tacos_desired) + \" tacos, please.\""
   ]
  },
  {
   "cell_type": "markdown",
   "metadata": {},
   "source": [
    "If you change the variable below and then go up and re-execute the code above, you'll see that the value has changed. So you have to be a bit careful about where and when you change values. "
   ]
  },
  {
   "cell_type": "code",
   "execution_count": 41,
   "metadata": {
    "collapsed": false
   },
   "outputs": [],
   "source": [
    "num_tacos_desired = -5"
   ]
  },
  {
   "cell_type": "code",
   "execution_count": 42,
   "metadata": {
    "collapsed": false
   },
   "outputs": [
    {
     "name": "stdout",
     "output_type": "stream",
     "text": [
      "I'd like -5 tacos, please.\n",
      "What is wrong with you?\n"
     ]
    }
   ],
   "source": [
    "print \"I'd like \" + str(num_tacos_desired) + \" tacos, please.\"\n",
    "\n",
    "if num_tacos_desired <= 0:\n",
    "    print \"What is wrong with you?\"\n",
    "elif num_tacos_desired > 3:\n",
    "    print \"I'm sorry, that's too many.\""
   ]
  },
  {
   "cell_type": "markdown",
   "metadata": {},
   "source": [
    "You'll notice that when you're at the bottom of a document and you press shirt+enter, an new empty code block will be created for you automatically. So you can just keep writing, executing, and writing more code!\n",
    "\n",
    "You can also use the circle+arrow icons in the menu bar to create new blocks above/below your current block. The plain arrow icons are used to shift an exising block up/down. "
   ]
  },
  {
   "cell_type": "code",
   "execution_count": 43,
   "metadata": {
    "collapsed": false
   },
   "outputs": [],
   "source": [
    "# last block. Execute this with shift+enter and a new block will be created!\n",
    "# when done, go on to the P & E -- simple lists notebook"
   ]
  },
  {
   "cell_type": "code",
   "execution_count": null,
   "metadata": {
    "collapsed": true
   },
   "outputs": [],
   "source": []
  }
 ],
 "metadata": {
  "kernelspec": {
   "display_name": "Python 2",
   "language": "python",
   "name": "python2"
  },
  "language_info": {
   "codemirror_mode": {
    "name": "ipython",
    "version": 2
   },
   "file_extension": ".py",
   "mimetype": "text/x-python",
   "name": "python",
   "nbconvert_exporter": "python",
   "pygments_lexer": "ipython2",
   "version": "2.7.6"
  }
 },
 "nbformat": 4,
 "nbformat_minor": 0
}
